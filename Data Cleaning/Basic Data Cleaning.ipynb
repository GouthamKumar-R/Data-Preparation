{
 "cells": [
  {
   "cell_type": "markdown",
   "metadata": {},
   "source": [
    "# Data cleaning"
   ]
  },
  {
   "cell_type": "markdown",
   "metadata": {},
   "source": [
    "### Table of contents:\n",
    "1. Identify and Remove Columns That Contain a Single Value ; using ---> nunique\n",
    "3. Identify and Remove Columns That Have Very Few Values(low variance) ---> sklearn.feature_selection VarianceThreshold\n",
    "5. Identify and Remove Rows that Contain Duplicate Data ---> duplicated\n"
   ]
  },
  {
   "cell_type": "markdown",
   "metadata": {},
   "source": [
    "### Goals/objective :\n",
    "* How to identify and remove column variables that only have a single value.\n",
    "* How to identify and consider column variables with very few unique values.\n",
    "* How to identify and remove rows that contain duplicate observations."
   ]
  },
  {
   "cell_type": "markdown",
   "metadata": {},
   "source": [
    "## 1. Identify and Remove Columns That Contain a Single Value"
   ]
  },
  {
   "cell_type": "markdown",
   "metadata": {},
   "source": [
    "Columns that have a single observation or value are probably useless for modeling. These\n",
    "columns or predictors are referred to zero-variance predictors as if we measured the variance\n",
    "(average value from the mean), it would be zero."
   ]
  },
  {
   "cell_type": "code",
   "execution_count": 5,
   "metadata": {
    "ExecuteTime": {
     "end_time": "2020-11-14T13:16:50.092521Z",
     "start_time": "2020-11-14T13:16:50.011214Z"
    }
   },
   "outputs": [
    {
     "name": "stdout",
     "output_type": "stream",
     "text": [
      "0     238\n",
      "1     297\n",
      "2     927\n",
      "3     933\n",
      "4     179\n",
      "5     375\n",
      "6     820\n",
      "7     618\n",
      "8     561\n",
      "9      57\n",
      "10    577\n",
      "11     59\n",
      "12     73\n",
      "13    107\n",
      "14     53\n",
      "15     91\n",
      "16    893\n",
      "17    810\n",
      "18    170\n",
      "19     53\n",
      "20     68\n",
      "21      9\n",
      "22      1\n",
      "23     92\n",
      "24      9\n",
      "25      8\n",
      "26      9\n",
      "27    308\n",
      "28    447\n",
      "29    392\n",
      "30    107\n",
      "31     42\n",
      "32      4\n",
      "33     45\n",
      "34    141\n",
      "35    110\n",
      "36      3\n",
      "37    758\n",
      "38      9\n",
      "39      9\n",
      "40    388\n",
      "41    220\n",
      "42    644\n",
      "43    649\n",
      "44    499\n",
      "45      2\n",
      "46    937\n",
      "47    169\n",
      "48    286\n",
      "49      2\n",
      "dtype: int64\n",
      "(937, 50)\n"
     ]
    }
   ],
   "source": [
    "#library\n",
    "import pandas as pd \n",
    "#loading the data\n",
    "df_oilspill = pd.read_csv('oil-spill.csv', header= None)\n",
    "#summarize the no. of unquie values in each feature(predictors)\n",
    "print(df_oilspill.nunique())\n",
    "print(df_oilspill.shape)"
   ]
  },
  {
   "cell_type": "code",
   "execution_count": 6,
   "metadata": {
    "ExecuteTime": {
     "end_time": "2020-11-14T13:16:50.441597Z",
     "start_time": "2020-11-14T13:16:50.384232Z"
    }
   },
   "outputs": [
    {
     "name": "stdout",
     "output_type": "stream",
     "text": [
      "[22]\n",
      "(937, 49)\n"
     ]
    }
   ],
   "source": [
    "#get the no. of unquie values \n",
    "counts = df_oilspill.nunique()\n",
    "#records that has to be deleted\n",
    "to_del =[i for i,v in enumerate(counts) if v ==1]\n",
    "print(to_del)\n",
    "#drop those col\n",
    "df_oilspill = df_oilspill.drop(to_del, axis=1)\n",
    "#after removal\n",
    "print(df_oilspill.shape)"
   ]
  },
  {
   "cell_type": "markdown",
   "metadata": {},
   "source": [
    "## 2. Identify and Remove Columns That Have Very Few Values(Low variance)"
   ]
  },
  {
   "cell_type": "markdown",
   "metadata": {},
   "source": [
    "There were columns that only had 2, 4, and 9 unique values. This might\n",
    "make sense for ordinal or categorical variables. In this case, however, the dataset only contains\n",
    "numerical variables."
   ]
  },
  {
   "cell_type": "markdown",
   "metadata": {},
   "source": [
    "To help highlight columns of this type,\n",
    "you can calculate the number of unique values for each variable as a percentage of the total\n",
    "number of rows in the dataset."
   ]
  },
  {
   "cell_type": "code",
   "execution_count": 7,
   "metadata": {
    "ExecuteTime": {
     "end_time": "2020-11-14T13:16:51.458059Z",
     "start_time": "2020-11-14T13:16:51.291242Z"
    }
   },
   "outputs": [
    {
     "name": "stdout",
     "output_type": "stream",
     "text": [
      "0, 238, 25.4%\n",
      "1, 297, 31.7%\n",
      "2, 927, 98.9%\n",
      "3, 933, 99.6%\n",
      "4, 179, 19.1%\n",
      "5, 375, 40.0%\n",
      "6, 820, 87.5%\n",
      "7, 618, 66.0%\n",
      "8, 561, 59.9%\n",
      "9, 57, 6.1%\n",
      "10, 577, 61.6%\n",
      "11, 59, 6.3%\n",
      "12, 73, 7.8%\n",
      "13, 107, 11.4%\n",
      "14, 53, 5.7%\n",
      "15, 91, 9.7%\n",
      "16, 893, 95.3%\n",
      "17, 810, 86.4%\n",
      "18, 170, 18.1%\n",
      "19, 53, 5.7%\n",
      "20, 68, 7.3%\n",
      "21, 9, 1.0%\n",
      "22, 1, 0.1%\n",
      "23, 92, 9.8%\n",
      "24, 9, 1.0%\n",
      "25, 8, 0.9%\n",
      "26, 9, 1.0%\n",
      "27, 308, 32.9%\n",
      "28, 447, 47.7%\n",
      "29, 392, 41.8%\n",
      "30, 107, 11.4%\n",
      "31, 42, 4.5%\n",
      "32, 4, 0.4%\n",
      "33, 45, 4.8%\n",
      "34, 141, 15.0%\n",
      "35, 110, 11.7%\n",
      "36, 3, 0.3%\n",
      "37, 758, 80.9%\n",
      "38, 9, 1.0%\n",
      "39, 9, 1.0%\n",
      "40, 388, 41.4%\n",
      "41, 220, 23.5%\n",
      "42, 644, 68.7%\n",
      "43, 649, 69.3%\n",
      "44, 499, 53.3%\n",
      "45, 2, 0.2%\n",
      "46, 937, 100.0%\n",
      "47, 169, 18.0%\n",
      "48, 286, 30.5%\n",
      "49, 2, 0.2%\n"
     ]
    }
   ],
   "source": [
    "#summarize the percentage of unique values for each column\n",
    "from numpy import loadtxt\n",
    "from numpy import unique\n",
    "#load the data\n",
    "df = loadtxt('oil-spill.csv', delimiter=',')\n",
    "#summarize\n",
    "for i in range(df.shape[1]):\n",
    "    n = len(unique(df[:, i]))\n",
    "    percentage = (float(n) / df.shape[0] )* 100\n",
    "    print(\"%d, %d, %0.1f%%\" %(i, n, percentage))"
   ]
  },
  {
   "cell_type": "code",
   "execution_count": 8,
   "metadata": {
    "ExecuteTime": {
     "end_time": "2020-11-14T13:16:51.630599Z",
     "start_time": "2020-11-14T13:16:51.500947Z"
    }
   },
   "outputs": [
    {
     "name": "stdout",
     "output_type": "stream",
     "text": [
      "21, 9, 1.0%\n",
      "22, 1, 0.1%\n",
      "24, 9, 1.0%\n",
      "25, 8, 0.9%\n",
      "26, 9, 1.0%\n",
      "32, 4, 0.4%\n",
      "36, 3, 0.3%\n",
      "38, 9, 1.0%\n",
      "39, 9, 1.0%\n",
      "45, 2, 0.2%\n",
      "49, 2, 0.2%\n"
     ]
    }
   ],
   "source": [
    "#modify the above code to get columns that have low variance (less than 1% )\n",
    "#load the data\n",
    "df = loadtxt('oil-spill.csv', delimiter=',')\n",
    "#summarize\n",
    "for i in range(df.shape[1]):\n",
    "    n = len(unique(df[:, i]))\n",
    "    percentage = (float(n) / df.shape[0] )* 100\n",
    "    \n",
    "    if percentage < 1:\n",
    "        print(\"%d, %d, %0.1f%%\" %(i, n, percentage))"
   ]
  },
  {
   "cell_type": "markdown",
   "metadata": {},
   "source": [
    "These columns have be to removed."
   ]
  },
  {
   "cell_type": "code",
   "execution_count": 9,
   "metadata": {
    "ExecuteTime": {
     "end_time": "2020-11-14T13:16:52.034574Z",
     "start_time": "2020-11-14T13:16:51.972222Z"
    }
   },
   "outputs": [
    {
     "name": "stdout",
     "output_type": "stream",
     "text": [
      "(937, 50)\n",
      "[21, 22, 24, 25, 26, 32, 36, 38, 39, 45, 49]\n",
      "(937, 39)\n"
     ]
    }
   ],
   "source": [
    "#deleting the low variance column.\n",
    "df = pd.read_csv('oil-spill.csv', header=None)\n",
    "print(df.shape)\n",
    "#get unique values\n",
    "counts = df.nunique()\n",
    "#record to delete the low variance col\n",
    "to_del =[i for i,v in enumerate(counts) if (float(v)/df.shape[0])*100 < 1]\n",
    "print(to_del)\n",
    "#drop those cols\n",
    "df = df.drop(to_del, axis =1)\n",
    "print(df.shape)"
   ]
  },
  {
   "cell_type": "markdown",
   "metadata": {},
   "source": [
    "11 Low variance columns have been removed from the dataset."
   ]
  },
  {
   "cell_type": "markdown",
   "metadata": {},
   "source": [
    "### 2.1 Another method to Remove columns that have low variance"
   ]
  },
  {
   "cell_type": "code",
   "execution_count": 2,
   "metadata": {
    "ExecuteTime": {
     "end_time": "2020-11-20T03:17:03.045507Z",
     "start_time": "2020-11-20T03:17:02.655373Z"
    }
   },
   "outputs": [
    {
     "name": "stdout",
     "output_type": "stream",
     "text": [
      "(937, 49) (937,)\n",
      "Threshold: 0.00\t Features: 48\n",
      "Threshold: 0.05\t Features: 37\n",
      "Threshold: 0.10\t Features: 36\n",
      "Threshold: 0.15\t Features: 35\n",
      "Threshold: 0.20\t Features: 35\n",
      "Threshold: 0.25\t Features: 35\n",
      "Threshold: 0.30\t Features: 35\n",
      "Threshold: 0.35\t Features: 35\n",
      "Threshold: 0.40\t Features: 35\n",
      "Threshold: 0.45\t Features: 33\n",
      "Threshold: 0.50\t Features: 31\n"
     ]
    },
    {
     "data": {
      "image/png": "[encoded data removed]",
      "text/plain": [
       "<Figure size 576x504 with 1 Axes>"
      ]
     },
     "metadata": {},
     "output_type": "display_data"
    }
   ],
   "source": [
    "#libraries\n",
    "from sklearn.feature_selection import VarianceThreshold\n",
    "import matplotlib.pyplot as plt\n",
    "#load the data\n",
    "df = pd.read_csv('oil-spill.csv', header=None)\n",
    "#split the data into inputs and outputs\n",
    "data = df.values\n",
    "X = data[:,:-1]\n",
    "y = data[:,-1]\n",
    "print(X.shape, y.shape)\n",
    "#define the threshold to check\n",
    "thresholds = np.arange(0.0,0.55,0.05)\n",
    "#apply the tansform to each threshold\n",
    "result = list()\n",
    "for t in thresholds:\n",
    "    #define the transform\n",
    "    var_th = VarianceThreshold(threshold=t)\n",
    "    #transform the i/p data\n",
    "    X_sel = var_th.fit_transform(X)\n",
    "    #determine the no. of i/p features \n",
    "    n_features = X_sel.shape[1]\n",
    "    print(\"Threshold: %.2f\\t Features: %d\"%(t,n_features))\n",
    "    #store those results\n",
    "    result.append(n_features)\n",
    "    \n",
    "#plotting the threshold vs no. of selected features\n",
    "plt.plot(thresholds, result)\n",
    "plt.show()"
   ]
  },
  {
   "cell_type": "markdown",
   "metadata": {},
   "source": [
    "## 3. Identify and Remove the row that contain Duplicate Data"
   ]
  },
  {
   "cell_type": "markdown",
   "metadata": {},
   "source": [
    "Data deduplication, also known as duplicate detection, record linkage, record matching, or entity resolution, refers to the process of identifying tuples in one or more\n",
    "relations that refer to the same real-world entity."
   ]
  },
  {
   "cell_type": "code",
   "execution_count": 24,
   "metadata": {
    "ExecuteTime": {
     "end_time": "2020-11-14T13:43:33.484921Z",
     "start_time": "2020-11-14T13:43:33.448602Z"
    }
   },
   "outputs": [
    {
     "name": "stdout",
     "output_type": "stream",
     "text": [
      "Is there any duplicates in my dataset: True\n",
      "\n",
      "        0    1    2    3               4\n",
      "34   4.9  3.1  1.5  0.1     Iris-setosa\n",
      "37   4.9  3.1  1.5  0.1     Iris-setosa\n",
      "142  5.8  2.7  5.1  1.9  Iris-virginica\n"
     ]
    }
   ],
   "source": [
    "#load the data\n",
    "df = pd.read_csv('iris.csv', header=None)\n",
    "#calculate duplicates\n",
    "dup = df.duplicated()\n",
    "#report if there is any duplicate\n",
    "print(\"Is there any duplicates in my dataset:\",dup.any())\n",
    "#list all duplicate rows\n",
    "print(\"\\n\", df[dup])"
   ]
  },
  {
   "cell_type": "code",
   "execution_count": 25,
   "metadata": {
    "ExecuteTime": {
     "end_time": "2020-11-14T13:47:18.989473Z",
     "start_time": "2020-11-14T13:47:18.964167Z"
    }
   },
   "outputs": [
    {
     "name": "stdout",
     "output_type": "stream",
     "text": [
      "(150, 5)\n",
      "(147, 5)\n"
     ]
    }
   ],
   "source": [
    "#deleting duplicate rows\n",
    "print(df.shape)\n",
    "#delete those records\n",
    "df = df.drop_duplicates()\n",
    "print(df.shape)"
   ]
  },
  {
   "cell_type": "markdown",
   "metadata": {},
   "source": [
    "## API"
   ]
  },
  {
   "cell_type": "markdown",
   "metadata": {},
   "source": [
    " numpy.unique API.\n",
    "https://numpy.org/doc/stable/reference/generated/numpy.unique.html\n",
    "\n",
    " pandas.DataFrame.nunique API.\n",
    "https://pandas.pydata.org/pandas-docs/stable/reference/api/pandas.DataFrame.nunique.html\n",
    "\n",
    " pandas.DataFrame.drop API.\n",
    "https://pandas.pydata.org/pandas-docs/stable/reference/api/pandas.DataFrame.drop.html\n",
    "\n",
    " pandas.DataFrame.duplicated API.\n",
    "https://pandas.pydata.org/pandas-docs/stable/reference/api/pandas.DataFrame.duplicated.html\n",
    "\n",
    " pandas.DataFrame.drop duplicates API.\n",
    "https://pandas.pydata.org/pandas-docs/stable/reference/api/pandas.DataFrame.drop_duplicates.html\n"
   ]
  }
 ],
 "metadata": {
  "kernelspec": {
   "display_name": "Python 3",
   "language": "python",
   "name": "python3"
  },
  "language_info": {
   "codemirror_mode": {
    "name": "ipython",
    "version": 3
   },
   "file_extension": ".py",
   "mimetype": "text/x-python",
   "name": "python",
   "nbconvert_exporter": "python",
   "pygments_lexer": "ipython3",
   "version": "3.8.3"
  }
 },
 "nbformat": 4,
 "nbformat_minor": 4
}
